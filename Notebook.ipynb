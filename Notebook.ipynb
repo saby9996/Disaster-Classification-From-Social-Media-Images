{
 "cells": [
  {
   "cell_type": "code",
   "execution_count": 44,
   "metadata": {},
   "outputs": [],
   "source": [
    "from sklearn import model_selection, svm\n",
    "from sklearn.cluster import KMeans\n",
    "from sklearn.ensemble import RandomForestClassifier, RandomForestRegressor\n",
    "from sklearn import metrics\n",
    "from sklearn.metrics import classification_report, average_precision_score, mean_squared_error\n",
    "from sklearn.metrics import confusion_matrix\n",
    "from sklearn.metrics import precision_recall_curve\n",
    "from sklearn.metrics import accuracy_score\n",
    "#from sklearn.cross_validation import cross_val_score\n",
    "from sklearn.linear_model import LogisticRegression\n",
    "from sklearn.linear_model import LinearRegression\n",
    "from sklearn.multiclass import OneVsRestClassifier\n",
    "from sklearn.neural_network import MLPClassifier\n",
    "from sklearn.preprocessing import label_binarize\n",
    "from sklearn.tree import DecisionTreeClassifier\n",
    "from sklearn.neighbors import KNeighborsClassifier\n",
    "from sklearn.discriminant_analysis import LinearDiscriminantAnalysis\n",
    "from sklearn.naive_bayes import GaussianNB\n",
    "from sklearn.naive_bayes import MultinomialNB\n",
    "from sklearn.svm import SVC\n",
    "from sklearn.metrics import r2_score\n",
    "from sklearn.ensemble import AdaBoostRegressor\n",
    "from sklearn.ensemble import GradientBoostingClassifier\n",
    "from sklearn.ensemble import VotingClassifier\n",
    "from sklearn.neural_network import MLPRegressor\n",
    "from sklearn.model_selection import StratifiedKFold\n",
    "from sklearn.model_selection import train_test_split\n",
    "from sklearn import linear_model\n",
    "from sklearn.metrics import mean_absolute_error\n",
    "from sklearn.metrics import roc_curve, roc_auc_score\n",
    "\n",
    "import keras\n",
    "from keras.utils import to_categorical\n",
    "from keras.models import Sequential\n",
    "from keras.layers import Dense\n",
    "from keras.layers import Dropout\n",
    "from keras.utils import to_categorical\n",
    "from keras.layers import Conv2D\n",
    "from keras.layers import Conv1D\n",
    "from keras.layers import MaxPooling2D\n",
    "from keras.layers import Flatten\n",
    "from keras import optimizers\n",
    "from keras.layers import Conv1D\n",
    "import numpy as np\n",
    "import pandas as pd\n",
    "import scipy\n",
    "import sklearn\n",
    "import os\n",
    "from keras.optimizers import SGD #Stochastic Gradient Descent Optimizer\n",
    "\n",
    "\n",
    "from keras.applications import inception_v3"
   ]
  },
  {
   "cell_type": "markdown",
   "metadata": {},
   "source": [
    "# Data Extraction and Preparation"
   ]
  },
  {
   "cell_type": "code",
   "execution_count": 2,
   "metadata": {},
   "outputs": [],
   "source": [
    "#Path to the Image Files\n",
    "path_to_img = 'C:/Users/Nairomi/Desktop/Disaster/Data_Main/image/'\n",
    "img_files=[pos_img for pos_img in os.listdir(path_to_img) if pos_img.endswith('.jpg')]\n",
    "#Path To Text Files\n",
    "#Path to the Image Files\n",
    "path_to_text = 'C:/Users/Nairomi/Desktop/Disaster/Data_Main/text/'\n",
    "text_files=[pos_text for pos_text in os.listdir(path_to_text) if pos_text.endswith('.txt')]"
   ]
  },
  {
   "cell_type": "code",
   "execution_count": 3,
   "metadata": {},
   "outputs": [
    {
     "name": "stdout",
     "output_type": "stream",
     "text": [
      "5879\n",
      "5831\n"
     ]
    }
   ],
   "source": [
    "print(len(img_files))\n",
    "print(len(text_files))"
   ]
  },
  {
   "cell_type": "code",
   "execution_count": 4,
   "metadata": {},
   "outputs": [
    {
     "name": "stdout",
     "output_type": "stream",
     "text": [
      "5879\n"
     ]
    }
   ],
   "source": [
    "#Removing Extension From all the Names To A New List\n",
    "name_files = [x[:-4] for x in img_files]\n",
    "print(len(name_files))"
   ]
  },
  {
   "cell_type": "code",
   "execution_count": 5,
   "metadata": {},
   "outputs": [],
   "source": [
    "#Creating a Dataframe To Store Text Files and the Names of the Data\n",
    "main_data=pd.DataFrame()\n",
    "main_data['filename']=name_files"
   ]
  },
  {
   "cell_type": "markdown",
   "metadata": {},
   "source": [
    "### Text Data"
   ]
  },
  {
   "cell_type": "code",
   "execution_count": 6,
   "metadata": {},
   "outputs": [],
   "source": [
    "data_list=[]\n",
    "for index in text_files:\n",
    "    text_file=os.path.join(path_to_text,index)\n",
    "    text_data=open(text_file,'r', encoding=\"utf8\")\n",
    "    data=text_data.read()\n",
    "    data_list.append(data)"
   ]
  },
  {
   "cell_type": "code",
   "execution_count": 7,
   "metadata": {},
   "outputs": [
    {
     "name": "stdout",
     "output_type": "stream",
     "text": [
      "5831\n"
     ]
    }
   ],
   "source": [
    "#Removing Extension From all the Names To A New List\n",
    "name_files = [x[:-4] for x in text_files]\n",
    "print(len(name_files))"
   ]
  },
  {
   "cell_type": "code",
   "execution_count": 8,
   "metadata": {},
   "outputs": [],
   "source": [
    "text_data=pd.DataFrame()\n",
    "text_data['filename']=name_files\n",
    "text_data['text_data']=data_list"
   ]
  },
  {
   "cell_type": "code",
   "execution_count": 9,
   "metadata": {},
   "outputs": [],
   "source": [
    "main_data=pd.merge(main_data, text_data, on='filename', how='left')"
   ]
  },
  {
   "cell_type": "code",
   "execution_count": 10,
   "metadata": {},
   "outputs": [],
   "source": [
    "main_data['img_path']=str(path_to_img)+main_data['filename']+str('.jpg')"
   ]
  },
  {
   "cell_type": "code",
   "execution_count": 11,
   "metadata": {},
   "outputs": [
    {
     "data": {
      "text/html": [
       "<div>\n",
       "<style scoped>\n",
       "    .dataframe tbody tr th:only-of-type {\n",
       "        vertical-align: middle;\n",
       "    }\n",
       "\n",
       "    .dataframe tbody tr th {\n",
       "        vertical-align: top;\n",
       "    }\n",
       "\n",
       "    .dataframe thead th {\n",
       "        text-align: right;\n",
       "    }\n",
       "</style>\n",
       "<table border=\"1\" class=\"dataframe\">\n",
       "  <thead>\n",
       "    <tr style=\"text-align: right;\">\n",
       "      <th></th>\n",
       "      <th>filename</th>\n",
       "      <th>text_data</th>\n",
       "      <th>img_path</th>\n",
       "    </tr>\n",
       "  </thead>\n",
       "  <tbody>\n",
       "    <tr>\n",
       "      <th>0</th>\n",
       "      <td>accrafloods_2015-06-04_22-22-16</td>\n",
       "      <td>#odorna #odornamarket #accrafloods #photograph...</td>\n",
       "      <td>C:/Users/Nairomi/Desktop/Disaster/Data_Main/im...</td>\n",
       "    </tr>\n",
       "    <tr>\n",
       "      <th>1</th>\n",
       "      <td>accrafloods_2015-06-04_22-54-13</td>\n",
       "      <td>One of the houses affected by the blast. #odor...</td>\n",
       "      <td>C:/Users/Nairomi/Desktop/Disaster/Data_Main/im...</td>\n",
       "    </tr>\n",
       "    <tr>\n",
       "      <th>2</th>\n",
       "      <td>accrafloods_2015-06-05_08-03-39</td>\n",
       "      <td>03/06/15 #NeverAgain #AccraFloods #PrayforGhana</td>\n",
       "      <td>C:/Users/Nairomi/Desktop/Disaster/Data_Main/im...</td>\n",
       "    </tr>\n",
       "    <tr>\n",
       "      <th>3</th>\n",
       "      <td>accrafloods_2015-06-05_08-08-35</td>\n",
       "      <td>Goil filling station on fire\\n#hmm \\n#accrafloods</td>\n",
       "      <td>C:/Users/Nairomi/Desktop/Disaster/Data_Main/im...</td>\n",
       "    </tr>\n",
       "    <tr>\n",
       "      <th>4</th>\n",
       "      <td>accrafloods_2015-06-05_12-22-10</td>\n",
       "      <td>@Regrann from @flavamatik: So my big sister se...</td>\n",
       "      <td>C:/Users/Nairomi/Desktop/Disaster/Data_Main/im...</td>\n",
       "    </tr>\n",
       "  </tbody>\n",
       "</table>\n",
       "</div>"
      ],
      "text/plain": [
       "                          filename  \\\n",
       "0  accrafloods_2015-06-04_22-22-16   \n",
       "1  accrafloods_2015-06-04_22-54-13   \n",
       "2  accrafloods_2015-06-05_08-03-39   \n",
       "3  accrafloods_2015-06-05_08-08-35   \n",
       "4  accrafloods_2015-06-05_12-22-10   \n",
       "\n",
       "                                           text_data  \\\n",
       "0  #odorna #odornamarket #accrafloods #photograph...   \n",
       "1  One of the houses affected by the blast. #odor...   \n",
       "2    03/06/15 #NeverAgain #AccraFloods #PrayforGhana   \n",
       "3  Goil filling station on fire\\n#hmm \\n#accrafloods   \n",
       "4  @Regrann from @flavamatik: So my big sister se...   \n",
       "\n",
       "                                            img_path  \n",
       "0  C:/Users/Nairomi/Desktop/Disaster/Data_Main/im...  \n",
       "1  C:/Users/Nairomi/Desktop/Disaster/Data_Main/im...  \n",
       "2  C:/Users/Nairomi/Desktop/Disaster/Data_Main/im...  \n",
       "3  C:/Users/Nairomi/Desktop/Disaster/Data_Main/im...  \n",
       "4  C:/Users/Nairomi/Desktop/Disaster/Data_Main/im...  "
      ]
     },
     "execution_count": 11,
     "metadata": {},
     "output_type": "execute_result"
    }
   ],
   "source": [
    "main_data.head()"
   ]
  },
  {
   "cell_type": "markdown",
   "metadata": {},
   "source": [
    "### Label Neutralisation\n",
    "The Dataset for the Label Neutralisation to 6 Classes has been derived From an External Replicatred Data Set without merging Stored in the E Drive"
   ]
  },
  {
   "cell_type": "code",
   "execution_count": 12,
   "metadata": {},
   "outputs": [
    {
     "name": "stdout",
     "output_type": "stream",
     "text": [
      "1418\n",
      "515\n",
      "349\n",
      "385\n",
      "240\n",
      "2972\n"
     ]
    }
   ],
   "source": [
    "#Class 1 - damaged_infrastructure\n",
    "path_to_img = 'E:/Lab Work and Codes/multimodal/damaged_infrastructure/images'\n",
    "img_files_di=[pos_img for pos_img in os.listdir(path_to_img) if pos_img.endswith('.jpg')]\n",
    "img_files_di = [x[:-4] for x in img_files_di]\n",
    "print(len(img_files_di))\n",
    "\n",
    "#Class 2 - damaged_nature\n",
    "path_to_img = 'E:/Lab Work and Codes/multimodal/damaged_nature/images'\n",
    "img_files_dn=[pos_img for pos_img in os.listdir(path_to_img) if pos_img.endswith('.jpg')]\n",
    "img_files_dn = [x[:-4] for x in img_files_dn]\n",
    "print(len(img_files_dn))\n",
    "\n",
    "#Class 3 - fires\n",
    "path_to_img = 'E:/Lab Work and Codes/multimodal/fires/images'\n",
    "img_files_fires=[pos_img for pos_img in os.listdir(path_to_img) if pos_img.endswith('.jpg')]\n",
    "img_files_fires = [x[:-4] for x in img_files_fires]\n",
    "print(len(img_files_fires))      \n",
    "      \n",
    "#Class 4 - damaged_infrastructure\n",
    "path_to_img = 'E:/Lab Work and Codes/multimodal/flood/images'\n",
    "img_files_flood=[pos_img for pos_img in os.listdir(path_to_img) if pos_img.endswith('.jpg')]\n",
    "img_files_flood = [x[:-4] for x in img_files_flood]\n",
    "print(len(img_files_flood))       \n",
    "      \n",
    "#Class 5 - damaged_infrastructure\n",
    "path_to_img = 'E:/Lab Work and Codes/multimodal/human_damage/images'\n",
    "img_files_hd=[pos_img for pos_img in os.listdir(path_to_img) if pos_img.endswith('.jpg')]\n",
    "img_files_hd = [x[:-4] for x in img_files_hd]\n",
    "print(len(img_files_hd))       \n",
    "      \n",
    "#Class 6  - damaged_infrastructure\n",
    "path_to_img = 'E:/Lab Work and Codes/multimodal/non_damage/images'\n",
    "img_files_nd=[pos_img for pos_img in os.listdir(path_to_img) if pos_img.endswith('.jpg')]\n",
    "img_files_nd = [x[:-4] for x in img_files_nd]\n",
    "print(len(img_files_nd))  "
   ]
  },
  {
   "cell_type": "code",
   "execution_count": 13,
   "metadata": {},
   "outputs": [],
   "source": [
    "def neutralisation_6(label):\n",
    "    if(label in img_files_di):\n",
    "        return 'damaged_infrastructure'\n",
    "    elif(label in img_files_dn):\n",
    "        return 'damaged_nature'\n",
    "    elif(label in img_files_fires):\n",
    "        return 'fires'\n",
    "    elif(label in img_files_flood):\n",
    "        return 'flood'\n",
    "    elif(label in img_files_hd):\n",
    "        return 'human_damage'\n",
    "    elif(label in img_files_nd):\n",
    "        return 'non_damage'\n",
    "    else:\n",
    "        return 'others'"
   ]
  },
  {
   "cell_type": "code",
   "execution_count": 14,
   "metadata": {},
   "outputs": [],
   "source": [
    "main_data['labels']=main_data['filename'].apply(neutralisation_6)"
   ]
  },
  {
   "cell_type": "code",
   "execution_count": 15,
   "metadata": {},
   "outputs": [
    {
     "data": {
      "text/plain": [
       "non_damage                2972\n",
       "damaged_infrastructure    1418\n",
       "damaged_nature             515\n",
       "flood                      385\n",
       "fires                      349\n",
       "human_damage               240\n",
       "Name: labels, dtype: int64"
      ]
     },
     "execution_count": 15,
     "metadata": {},
     "output_type": "execute_result"
    }
   ],
   "source": [
    "main_data['labels'].value_counts()"
   ]
  },
  {
   "cell_type": "markdown",
   "metadata": {},
   "source": [
    "### Training and Testing For Complete Dataset"
   ]
  },
  {
   "cell_type": "markdown",
   "metadata": {},
   "source": [
    "This Part of the Split Will help us to Randomize the Complete Dataset and The Labels"
   ]
  },
  {
   "cell_type": "code",
   "execution_count": 144,
   "metadata": {},
   "outputs": [],
   "source": [
    "from sklearn.model_selection import train_test_split\n",
    "train_features, test_features, train_labels, test_labels = train_test_split(main_data, main_data['labels'], test_size = 0.3, random_state =9, stratify=main_data['labels'])"
   ]
  },
  {
   "cell_type": "markdown",
   "metadata": {},
   "source": [
    "#### Reading Image From the Training Set"
   ]
  },
  {
   "cell_type": "code",
   "execution_count": 145,
   "metadata": {},
   "outputs": [],
   "source": [
    "from PIL import Image\n",
    "from PIL import ImageFile\n",
    "ImageFile.LOAD_TRUNCATED_IMAGES = True\n",
    "image_pixel_data_train=[]\n",
    "for i in train_features['img_path']:\n",
    "    img_path=os.path.join(path_to_img,i)\n",
    "    img =Image.open(img_path).convert('RGB')\n",
    "    img=img.resize((128, 128))\n",
    "    image_pixel_data_train.append(np.asarray(img))   "
   ]
  },
  {
   "cell_type": "code",
   "execution_count": 146,
   "metadata": {},
   "outputs": [],
   "source": [
    "image_label_data_train=np.asarray(train_labels)"
   ]
  },
  {
   "cell_type": "code",
   "execution_count": 147,
   "metadata": {},
   "outputs": [],
   "source": [
    "image_pixel_data_train=np.asarray(image_pixel_data_train)\n",
    "image_label_data_train=np.asarray(image_label_data_train)"
   ]
  },
  {
   "cell_type": "code",
   "execution_count": 148,
   "metadata": {},
   "outputs": [
    {
     "name": "stdout",
     "output_type": "stream",
     "text": [
      "6\n"
     ]
    }
   ],
   "source": [
    "classes=train_labels.nunique()\n",
    "print(classes)"
   ]
  },
  {
   "cell_type": "code",
   "execution_count": 149,
   "metadata": {},
   "outputs": [
    {
     "name": "stdout",
     "output_type": "stream",
     "text": [
      "Shape of The Complete Data Set is (4115, 128, 128, 3)\n"
     ]
    }
   ],
   "source": [
    "#Data Shape Fix\n",
    "nRows,nCols,nDims = image_pixel_data_train.shape[1:]\n",
    "input_shape=(nRows,nCols,nDims)\n",
    "image_pixel_data_train = image_pixel_data_train.reshape(image_pixel_data_train.shape[0], nRows, nCols, nDims)\n",
    "print(\"Shape of The Complete Data Set is \"+ str(image_pixel_data_train.shape))"
   ]
  },
  {
   "cell_type": "markdown",
   "metadata": {},
   "source": [
    "#### Reading Image From the Test Set"
   ]
  },
  {
   "cell_type": "code",
   "execution_count": 150,
   "metadata": {},
   "outputs": [],
   "source": [
    "from PIL import Image\n",
    "from PIL import ImageFile\n",
    "ImageFile.LOAD_TRUNCATED_IMAGES = True\n",
    "image_pixel_data_test=[]\n",
    "for i in test_features['img_path']:\n",
    "    img_path=os.path.join(path_to_img,i)\n",
    "    img =Image.open(img_path).convert('RGB')\n",
    "    img=img.resize((128, 128))\n",
    "    image_pixel_data_test.append(np.asarray(img)) "
   ]
  },
  {
   "cell_type": "code",
   "execution_count": 151,
   "metadata": {},
   "outputs": [],
   "source": [
    "image_label_data_test=np.asarray(test_labels)"
   ]
  },
  {
   "cell_type": "code",
   "execution_count": 152,
   "metadata": {},
   "outputs": [],
   "source": [
    "image_pixel_data_test=np.asarray(image_pixel_data_test)\n",
    "image_label_data_test=np.asarray(image_label_data_test)"
   ]
  },
  {
   "cell_type": "code",
   "execution_count": 153,
   "metadata": {},
   "outputs": [
    {
     "name": "stdout",
     "output_type": "stream",
     "text": [
      "6\n"
     ]
    }
   ],
   "source": [
    "classes=test_labels.nunique()\n",
    "print(classes)"
   ]
  },
  {
   "cell_type": "code",
   "execution_count": 154,
   "metadata": {},
   "outputs": [
    {
     "name": "stdout",
     "output_type": "stream",
     "text": [
      "Shape of The Complete Test Data Set is (1764, 128, 128, 3)\n"
     ]
    }
   ],
   "source": [
    "#Data Shape Fix\n",
    "nRows,nCols,nDims = image_pixel_data_test.shape[1:]\n",
    "input_shape=(nRows,nCols,nDims)\n",
    "image_pixel_data_test = image_pixel_data_test.reshape(image_pixel_data_test.shape[0], nRows, nCols, nDims)\n",
    "print(\"Shape of The Complete Test Data Set is \"+ str(image_pixel_data_test.shape))"
   ]
  },
  {
   "cell_type": "markdown",
   "metadata": {},
   "source": [
    "The List with the Image And the Labels are\n",
    "#### image_pixel_data ------------- Images\n",
    "#### image_label_data ------------- Labels"
   ]
  },
  {
   "cell_type": "raw",
   "metadata": {},
   "source": [
    "# Example of a picture\n",
    "index = 2500\n",
    "plt.imshow(image_pixel_data[index])\n",
    "print (\"Class = \" + str(image_label_data[index]))"
   ]
  },
  {
   "cell_type": "markdown",
   "metadata": {},
   "source": [
    "### Data Preprocessing"
   ]
  },
  {
   "cell_type": "code",
   "execution_count": 155,
   "metadata": {},
   "outputs": [],
   "source": [
    "#### Training\n",
    "# Change to float datatype\n",
    "image_pixel_data_train = image_pixel_data_train.astype('float32')\n",
    "#Scale The Data from \"0 to 255\" to \"0 to 1\"\n",
    "image_pixel_data_train=image_pixel_data_train/255\n",
    "\n",
    "#### Testing\n",
    "# Change to float datatype\n",
    "image_pixel_data_test = image_pixel_data_test.astype('float32')\n",
    "#Scale The Data from \"0 to 255\" to \"0 to 1\"\n",
    "image_pixel_data_test=image_pixel_data_test/255"
   ]
  },
  {
   "cell_type": "code",
   "execution_count": 156,
   "metadata": {},
   "outputs": [],
   "source": [
    "image_label_data_train = image_label_data_train.reshape(image_label_data_train.shape[0],1)\n",
    "image_label_data_test = image_label_data_test.reshape(image_label_data_test.shape[0],1)"
   ]
  },
  {
   "cell_type": "markdown",
   "metadata": {},
   "source": [
    "### Train and Test Split"
   ]
  },
  {
   "cell_type": "code",
   "execution_count": 157,
   "metadata": {},
   "outputs": [],
   "source": [
    "#Converting the Labels to be Categorical\n",
    "from sklearn.preprocessing import OneHotEncoder\n",
    "enc = OneHotEncoder(handle_unknown='ignore')\n",
    "\n",
    "image_label_data_train=enc.fit_transform(image_label_data_train).toarray()\n",
    "image_label_data_test=enc.fit_transform(image_label_data_test).toarray()"
   ]
  },
  {
   "cell_type": "code",
   "execution_count": 158,
   "metadata": {},
   "outputs": [
    {
     "name": "stdout",
     "output_type": "stream",
     "text": [
      "The Shape of Train Data is (4115, 128, 128, 3)\n",
      "The Shape of Test Data is (1764, 128, 128, 3)\n",
      "The Shape of Train Label is (4115, 6)\n",
      "The Shape of Test Label is (1764, 6)\n"
     ]
    }
   ],
   "source": [
    "print(\"The Shape of Train Data is \"+ str(image_pixel_data_train.shape))\n",
    "print(\"The Shape of Test Data is \"+str(image_pixel_data_test.shape))\n",
    "print(\"The Shape of Train Label is \"+ str(image_label_data_train.shape))\n",
    "print(\"The Shape of Test Label is \"+str(image_label_data_test.shape))"
   ]
  },
  {
   "cell_type": "markdown",
   "metadata": {},
   "source": [
    "## Transfer Learning"
   ]
  },
  {
   "cell_type": "code",
   "execution_count": 209,
   "metadata": {},
   "outputs": [],
   "source": [
    "import livelossplot\n",
    "from livelossplot import PlotLossesKeras\n",
    "plot_losses = livelossplot.PlotLossesKeras()"
   ]
  },
  {
   "cell_type": "code",
   "execution_count": 210,
   "metadata": {},
   "outputs": [],
   "source": [
    "#Load the VGG model\n",
    "#vgg_model = vgg16.VGG16(weights='imagenet')\n",
    " \n",
    "#Load the Inception_V3 model\n",
    "inception_model = inception_v3.InceptionV3(weights='imagenet', include_top=False, input_shape=input_shape)\n",
    " \n",
    "#Load the ResNet50 model\n",
    "#resnet_model = resnet50.ResNet50(weights='imagenet')\n",
    " \n",
    "##Load the Inception_V4 model\n",
    "#inception_model_v4 = inception_v4.InceptionV4(weights='imagenet')"
   ]
  },
  {
   "cell_type": "code",
   "execution_count": 211,
   "metadata": {},
   "outputs": [
    {
     "name": "stdout",
     "output_type": "stream",
     "text": [
      "__________________________________________________________________________________________________\n",
      "Layer (type)                    Output Shape         Param #     Connected to                     \n",
      "==================================================================================================\n",
      "input_9 (InputLayer)            (None, 128, 128, 3)  0                                            \n",
      "__________________________________________________________________________________________________\n",
      "conv2d_753 (Conv2D)             (None, 63, 63, 32)   864         input_9[0][0]                    \n",
      "__________________________________________________________________________________________________\n",
      "batch_normalization_753 (BatchN (None, 63, 63, 32)   96          conv2d_753[0][0]                 \n",
      "__________________________________________________________________________________________________\n",
      "activation_753 (Activation)     (None, 63, 63, 32)   0           batch_normalization_753[0][0]    \n",
      "__________________________________________________________________________________________________\n",
      "conv2d_754 (Conv2D)             (None, 61, 61, 32)   9216        activation_753[0][0]             \n",
      "__________________________________________________________________________________________________\n",
      "batch_normalization_754 (BatchN (None, 61, 61, 32)   96          conv2d_754[0][0]                 \n",
      "__________________________________________________________________________________________________\n",
      "activation_754 (Activation)     (None, 61, 61, 32)   0           batch_normalization_754[0][0]    \n",
      "__________________________________________________________________________________________________\n",
      "conv2d_755 (Conv2D)             (None, 61, 61, 64)   18432       activation_754[0][0]             \n",
      "__________________________________________________________________________________________________\n",
      "batch_normalization_755 (BatchN (None, 61, 61, 64)   192         conv2d_755[0][0]                 \n",
      "__________________________________________________________________________________________________\n",
      "activation_755 (Activation)     (None, 61, 61, 64)   0           batch_normalization_755[0][0]    \n",
      "__________________________________________________________________________________________________\n",
      "max_pooling2d_33 (MaxPooling2D) (None, 30, 30, 64)   0           activation_755[0][0]             \n",
      "__________________________________________________________________________________________________\n",
      "conv2d_756 (Conv2D)             (None, 30, 30, 80)   5120        max_pooling2d_33[0][0]           \n",
      "__________________________________________________________________________________________________\n",
      "batch_normalization_756 (BatchN (None, 30, 30, 80)   240         conv2d_756[0][0]                 \n",
      "__________________________________________________________________________________________________\n",
      "activation_756 (Activation)     (None, 30, 30, 80)   0           batch_normalization_756[0][0]    \n",
      "__________________________________________________________________________________________________\n",
      "conv2d_757 (Conv2D)             (None, 28, 28, 192)  138240      activation_756[0][0]             \n",
      "__________________________________________________________________________________________________\n",
      "batch_normalization_757 (BatchN (None, 28, 28, 192)  576         conv2d_757[0][0]                 \n",
      "__________________________________________________________________________________________________\n",
      "activation_757 (Activation)     (None, 28, 28, 192)  0           batch_normalization_757[0][0]    \n",
      "__________________________________________________________________________________________________\n",
      "max_pooling2d_34 (MaxPooling2D) (None, 13, 13, 192)  0           activation_757[0][0]             \n",
      "__________________________________________________________________________________________________\n",
      "conv2d_761 (Conv2D)             (None, 13, 13, 64)   12288       max_pooling2d_34[0][0]           \n",
      "__________________________________________________________________________________________________\n",
      "batch_normalization_761 (BatchN (None, 13, 13, 64)   192         conv2d_761[0][0]                 \n",
      "__________________________________________________________________________________________________\n",
      "activation_761 (Activation)     (None, 13, 13, 64)   0           batch_normalization_761[0][0]    \n",
      "__________________________________________________________________________________________________\n",
      "conv2d_759 (Conv2D)             (None, 13, 13, 48)   9216        max_pooling2d_34[0][0]           \n",
      "__________________________________________________________________________________________________\n",
      "conv2d_762 (Conv2D)             (None, 13, 13, 96)   55296       activation_761[0][0]             \n",
      "__________________________________________________________________________________________________\n",
      "batch_normalization_759 (BatchN (None, 13, 13, 48)   144         conv2d_759[0][0]                 \n",
      "__________________________________________________________________________________________________\n",
      "batch_normalization_762 (BatchN (None, 13, 13, 96)   288         conv2d_762[0][0]                 \n",
      "__________________________________________________________________________________________________\n",
      "activation_759 (Activation)     (None, 13, 13, 48)   0           batch_normalization_759[0][0]    \n",
      "__________________________________________________________________________________________________\n",
      "activation_762 (Activation)     (None, 13, 13, 96)   0           batch_normalization_762[0][0]    \n",
      "__________________________________________________________________________________________________\n",
      "average_pooling2d_73 (AveragePo (None, 13, 13, 192)  0           max_pooling2d_34[0][0]           \n",
      "__________________________________________________________________________________________________\n",
      "conv2d_758 (Conv2D)             (None, 13, 13, 64)   12288       max_pooling2d_34[0][0]           \n",
      "__________________________________________________________________________________________________\n",
      "conv2d_760 (Conv2D)             (None, 13, 13, 64)   76800       activation_759[0][0]             \n",
      "__________________________________________________________________________________________________\n",
      "conv2d_763 (Conv2D)             (None, 13, 13, 96)   82944       activation_762[0][0]             \n",
      "__________________________________________________________________________________________________\n",
      "conv2d_764 (Conv2D)             (None, 13, 13, 32)   6144        average_pooling2d_73[0][0]       \n",
      "__________________________________________________________________________________________________\n",
      "batch_normalization_758 (BatchN (None, 13, 13, 64)   192         conv2d_758[0][0]                 \n",
      "__________________________________________________________________________________________________\n",
      "batch_normalization_760 (BatchN (None, 13, 13, 64)   192         conv2d_760[0][0]                 \n",
      "__________________________________________________________________________________________________\n",
      "batch_normalization_763 (BatchN (None, 13, 13, 96)   288         conv2d_763[0][0]                 \n",
      "__________________________________________________________________________________________________\n",
      "batch_normalization_764 (BatchN (None, 13, 13, 32)   96          conv2d_764[0][0]                 \n",
      "__________________________________________________________________________________________________\n",
      "activation_758 (Activation)     (None, 13, 13, 64)   0           batch_normalization_758[0][0]    \n",
      "__________________________________________________________________________________________________\n",
      "activation_760 (Activation)     (None, 13, 13, 64)   0           batch_normalization_760[0][0]    \n",
      "__________________________________________________________________________________________________\n",
      "activation_763 (Activation)     (None, 13, 13, 96)   0           batch_normalization_763[0][0]    \n",
      "__________________________________________________________________________________________________\n",
      "activation_764 (Activation)     (None, 13, 13, 32)   0           batch_normalization_764[0][0]    \n",
      "__________________________________________________________________________________________________\n",
      "mixed0 (Concatenate)            (None, 13, 13, 256)  0           activation_758[0][0]             \n",
      "                                                                 activation_760[0][0]             \n",
      "                                                                 activation_763[0][0]             \n",
      "                                                                 activation_764[0][0]             \n",
      "__________________________________________________________________________________________________\n",
      "conv2d_768 (Conv2D)             (None, 13, 13, 64)   16384       mixed0[0][0]                     \n",
      "__________________________________________________________________________________________________\n",
      "batch_normalization_768 (BatchN (None, 13, 13, 64)   192         conv2d_768[0][0]                 \n",
      "__________________________________________________________________________________________________\n",
      "activation_768 (Activation)     (None, 13, 13, 64)   0           batch_normalization_768[0][0]    \n",
      "__________________________________________________________________________________________________\n",
      "conv2d_766 (Conv2D)             (None, 13, 13, 48)   12288       mixed0[0][0]                     \n",
      "__________________________________________________________________________________________________\n",
      "conv2d_769 (Conv2D)             (None, 13, 13, 96)   55296       activation_768[0][0]             \n",
      "__________________________________________________________________________________________________\n",
      "batch_normalization_766 (BatchN (None, 13, 13, 48)   144         conv2d_766[0][0]                 \n",
      "__________________________________________________________________________________________________\n",
      "batch_normalization_769 (BatchN (None, 13, 13, 96)   288         conv2d_769[0][0]                 \n",
      "__________________________________________________________________________________________________\n",
      "activation_766 (Activation)     (None, 13, 13, 48)   0           batch_normalization_766[0][0]    \n",
      "__________________________________________________________________________________________________\n",
      "activation_769 (Activation)     (None, 13, 13, 96)   0           batch_normalization_769[0][0]    \n",
      "__________________________________________________________________________________________________\n",
      "average_pooling2d_74 (AveragePo (None, 13, 13, 256)  0           mixed0[0][0]                     \n",
      "__________________________________________________________________________________________________\n",
      "conv2d_765 (Conv2D)             (None, 13, 13, 64)   16384       mixed0[0][0]                     \n",
      "__________________________________________________________________________________________________\n",
      "conv2d_767 (Conv2D)             (None, 13, 13, 64)   76800       activation_766[0][0]             \n",
      "__________________________________________________________________________________________________\n",
      "conv2d_770 (Conv2D)             (None, 13, 13, 96)   82944       activation_769[0][0]             \n",
      "__________________________________________________________________________________________________\n",
      "conv2d_771 (Conv2D)             (None, 13, 13, 64)   16384       average_pooling2d_74[0][0]       \n",
      "__________________________________________________________________________________________________\n",
      "batch_normalization_765 (BatchN (None, 13, 13, 64)   192         conv2d_765[0][0]                 \n",
      "__________________________________________________________________________________________________\n",
      "batch_normalization_767 (BatchN (None, 13, 13, 64)   192         conv2d_767[0][0]                 \n",
      "__________________________________________________________________________________________________\n",
      "batch_normalization_770 (BatchN (None, 13, 13, 96)   288         conv2d_770[0][0]                 \n",
      "__________________________________________________________________________________________________\n",
      "batch_normalization_771 (BatchN (None, 13, 13, 64)   192         conv2d_771[0][0]                 \n",
      "__________________________________________________________________________________________________\n",
      "activation_765 (Activation)     (None, 13, 13, 64)   0           batch_normalization_765[0][0]    \n",
      "__________________________________________________________________________________________________\n",
      "activation_767 (Activation)     (None, 13, 13, 64)   0           batch_normalization_767[0][0]    \n",
      "__________________________________________________________________________________________________\n",
      "activation_770 (Activation)     (None, 13, 13, 96)   0           batch_normalization_770[0][0]    \n",
      "__________________________________________________________________________________________________\n",
      "activation_771 (Activation)     (None, 13, 13, 64)   0           batch_normalization_771[0][0]    \n",
      "__________________________________________________________________________________________________\n",
      "mixed1 (Concatenate)            (None, 13, 13, 288)  0           activation_765[0][0]             \n",
      "                                                                 activation_767[0][0]             \n",
      "                                                                 activation_770[0][0]             \n",
      "                                                                 activation_771[0][0]             \n",
      "__________________________________________________________________________________________________\n",
      "conv2d_775 (Conv2D)             (None, 13, 13, 64)   18432       mixed1[0][0]                     \n",
      "__________________________________________________________________________________________________\n",
      "batch_normalization_775 (BatchN (None, 13, 13, 64)   192         conv2d_775[0][0]                 \n",
      "__________________________________________________________________________________________________\n",
      "activation_775 (Activation)     (None, 13, 13, 64)   0           batch_normalization_775[0][0]    \n",
      "__________________________________________________________________________________________________\n",
      "conv2d_773 (Conv2D)             (None, 13, 13, 48)   13824       mixed1[0][0]                     \n",
      "__________________________________________________________________________________________________\n",
      "conv2d_776 (Conv2D)             (None, 13, 13, 96)   55296       activation_775[0][0]             \n",
      "__________________________________________________________________________________________________\n",
      "batch_normalization_773 (BatchN (None, 13, 13, 48)   144         conv2d_773[0][0]                 \n",
      "__________________________________________________________________________________________________\n",
      "batch_normalization_776 (BatchN (None, 13, 13, 96)   288         conv2d_776[0][0]                 \n",
      "__________________________________________________________________________________________________\n",
      "activation_773 (Activation)     (None, 13, 13, 48)   0           batch_normalization_773[0][0]    \n",
      "__________________________________________________________________________________________________\n",
      "activation_776 (Activation)     (None, 13, 13, 96)   0           batch_normalization_776[0][0]    \n",
      "__________________________________________________________________________________________________\n",
      "average_pooling2d_75 (AveragePo (None, 13, 13, 288)  0           mixed1[0][0]                     \n",
      "__________________________________________________________________________________________________\n",
      "conv2d_772 (Conv2D)             (None, 13, 13, 64)   18432       mixed1[0][0]                     \n",
      "__________________________________________________________________________________________________\n",
      "conv2d_774 (Conv2D)             (None, 13, 13, 64)   76800       activation_773[0][0]             \n",
      "__________________________________________________________________________________________________\n",
      "conv2d_777 (Conv2D)             (None, 13, 13, 96)   82944       activation_776[0][0]             \n",
      "__________________________________________________________________________________________________\n",
      "conv2d_778 (Conv2D)             (None, 13, 13, 64)   18432       average_pooling2d_75[0][0]       \n",
      "__________________________________________________________________________________________________\n",
      "batch_normalization_772 (BatchN (None, 13, 13, 64)   192         conv2d_772[0][0]                 \n",
      "__________________________________________________________________________________________________\n",
      "batch_normalization_774 (BatchN (None, 13, 13, 64)   192         conv2d_774[0][0]                 \n",
      "__________________________________________________________________________________________________\n",
      "batch_normalization_777 (BatchN (None, 13, 13, 96)   288         conv2d_777[0][0]                 \n",
      "__________________________________________________________________________________________________\n",
      "batch_normalization_778 (BatchN (None, 13, 13, 64)   192         conv2d_778[0][0]                 \n",
      "__________________________________________________________________________________________________\n",
      "activation_772 (Activation)     (None, 13, 13, 64)   0           batch_normalization_772[0][0]    \n",
      "__________________________________________________________________________________________________\n",
      "activation_774 (Activation)     (None, 13, 13, 64)   0           batch_normalization_774[0][0]    \n",
      "__________________________________________________________________________________________________\n",
      "activation_777 (Activation)     (None, 13, 13, 96)   0           batch_normalization_777[0][0]    \n",
      "__________________________________________________________________________________________________\n",
      "activation_778 (Activation)     (None, 13, 13, 64)   0           batch_normalization_778[0][0]    \n",
      "__________________________________________________________________________________________________\n",
      "mixed2 (Concatenate)            (None, 13, 13, 288)  0           activation_772[0][0]             \n",
      "                                                                 activation_774[0][0]             \n",
      "                                                                 activation_777[0][0]             \n",
      "                                                                 activation_778[0][0]             \n",
      "__________________________________________________________________________________________________\n",
      "conv2d_780 (Conv2D)             (None, 13, 13, 64)   18432       mixed2[0][0]                     \n",
      "__________________________________________________________________________________________________\n",
      "batch_normalization_780 (BatchN (None, 13, 13, 64)   192         conv2d_780[0][0]                 \n",
      "__________________________________________________________________________________________________\n",
      "activation_780 (Activation)     (None, 13, 13, 64)   0           batch_normalization_780[0][0]    \n",
      "__________________________________________________________________________________________________\n",
      "conv2d_781 (Conv2D)             (None, 13, 13, 96)   55296       activation_780[0][0]             \n",
      "__________________________________________________________________________________________________\n",
      "batch_normalization_781 (BatchN (None, 13, 13, 96)   288         conv2d_781[0][0]                 \n",
      "__________________________________________________________________________________________________\n",
      "activation_781 (Activation)     (None, 13, 13, 96)   0           batch_normalization_781[0][0]    \n",
      "__________________________________________________________________________________________________\n",
      "conv2d_779 (Conv2D)             (None, 6, 6, 384)    995328      mixed2[0][0]                     \n",
      "__________________________________________________________________________________________________\n",
      "conv2d_782 (Conv2D)             (None, 6, 6, 96)     82944       activation_781[0][0]             \n",
      "__________________________________________________________________________________________________\n",
      "batch_normalization_779 (BatchN (None, 6, 6, 384)    1152        conv2d_779[0][0]                 \n",
      "__________________________________________________________________________________________________\n",
      "batch_normalization_782 (BatchN (None, 6, 6, 96)     288         conv2d_782[0][0]                 \n",
      "__________________________________________________________________________________________________\n",
      "activation_779 (Activation)     (None, 6, 6, 384)    0           batch_normalization_779[0][0]    \n",
      "__________________________________________________________________________________________________\n",
      "activation_782 (Activation)     (None, 6, 6, 96)     0           batch_normalization_782[0][0]    \n",
      "__________________________________________________________________________________________________\n",
      "max_pooling2d_35 (MaxPooling2D) (None, 6, 6, 288)    0           mixed2[0][0]                     \n",
      "__________________________________________________________________________________________________\n",
      "mixed3 (Concatenate)            (None, 6, 6, 768)    0           activation_779[0][0]             \n",
      "                                                                 activation_782[0][0]             \n",
      "                                                                 max_pooling2d_35[0][0]           \n",
      "__________________________________________________________________________________________________\n",
      "conv2d_787 (Conv2D)             (None, 6, 6, 128)    98304       mixed3[0][0]                     \n",
      "__________________________________________________________________________________________________\n",
      "batch_normalization_787 (BatchN (None, 6, 6, 128)    384         conv2d_787[0][0]                 \n",
      "__________________________________________________________________________________________________\n",
      "activation_787 (Activation)     (None, 6, 6, 128)    0           batch_normalization_787[0][0]    \n",
      "__________________________________________________________________________________________________\n",
      "conv2d_788 (Conv2D)             (None, 6, 6, 128)    114688      activation_787[0][0]             \n",
      "__________________________________________________________________________________________________\n",
      "batch_normalization_788 (BatchN (None, 6, 6, 128)    384         conv2d_788[0][0]                 \n",
      "__________________________________________________________________________________________________\n",
      "activation_788 (Activation)     (None, 6, 6, 128)    0           batch_normalization_788[0][0]    \n",
      "__________________________________________________________________________________________________\n",
      "conv2d_784 (Conv2D)             (None, 6, 6, 128)    98304       mixed3[0][0]                     \n",
      "__________________________________________________________________________________________________\n",
      "conv2d_789 (Conv2D)             (None, 6, 6, 128)    114688      activation_788[0][0]             \n",
      "__________________________________________________________________________________________________\n",
      "batch_normalization_784 (BatchN (None, 6, 6, 128)    384         conv2d_784[0][0]                 \n",
      "__________________________________________________________________________________________________\n",
      "batch_normalization_789 (BatchN (None, 6, 6, 128)    384         conv2d_789[0][0]                 \n",
      "__________________________________________________________________________________________________\n",
      "activation_784 (Activation)     (None, 6, 6, 128)    0           batch_normalization_784[0][0]    \n",
      "__________________________________________________________________________________________________\n",
      "activation_789 (Activation)     (None, 6, 6, 128)    0           batch_normalization_789[0][0]    \n",
      "__________________________________________________________________________________________________\n",
      "conv2d_785 (Conv2D)             (None, 6, 6, 128)    114688      activation_784[0][0]             \n",
      "__________________________________________________________________________________________________\n",
      "conv2d_790 (Conv2D)             (None, 6, 6, 128)    114688      activation_789[0][0]             \n",
      "__________________________________________________________________________________________________\n",
      "batch_normalization_785 (BatchN (None, 6, 6, 128)    384         conv2d_785[0][0]                 \n",
      "__________________________________________________________________________________________________\n",
      "batch_normalization_790 (BatchN (None, 6, 6, 128)    384         conv2d_790[0][0]                 \n",
      "__________________________________________________________________________________________________\n",
      "activation_785 (Activation)     (None, 6, 6, 128)    0           batch_normalization_785[0][0]    \n",
      "__________________________________________________________________________________________________\n",
      "activation_790 (Activation)     (None, 6, 6, 128)    0           batch_normalization_790[0][0]    \n",
      "__________________________________________________________________________________________________\n",
      "average_pooling2d_76 (AveragePo (None, 6, 6, 768)    0           mixed3[0][0]                     \n",
      "__________________________________________________________________________________________________\n",
      "conv2d_783 (Conv2D)             (None, 6, 6, 192)    147456      mixed3[0][0]                     \n",
      "__________________________________________________________________________________________________\n",
      "conv2d_786 (Conv2D)             (None, 6, 6, 192)    172032      activation_785[0][0]             \n",
      "__________________________________________________________________________________________________\n",
      "conv2d_791 (Conv2D)             (None, 6, 6, 192)    172032      activation_790[0][0]             \n",
      "__________________________________________________________________________________________________\n",
      "conv2d_792 (Conv2D)             (None, 6, 6, 192)    147456      average_pooling2d_76[0][0]       \n",
      "__________________________________________________________________________________________________\n",
      "batch_normalization_783 (BatchN (None, 6, 6, 192)    576         conv2d_783[0][0]                 \n",
      "__________________________________________________________________________________________________\n",
      "batch_normalization_786 (BatchN (None, 6, 6, 192)    576         conv2d_786[0][0]                 \n",
      "__________________________________________________________________________________________________\n",
      "batch_normalization_791 (BatchN (None, 6, 6, 192)    576         conv2d_791[0][0]                 \n",
      "__________________________________________________________________________________________________\n",
      "batch_normalization_792 (BatchN (None, 6, 6, 192)    576         conv2d_792[0][0]                 \n",
      "__________________________________________________________________________________________________\n",
      "activation_783 (Activation)     (None, 6, 6, 192)    0           batch_normalization_783[0][0]    \n",
      "__________________________________________________________________________________________________\n",
      "activation_786 (Activation)     (None, 6, 6, 192)    0           batch_normalization_786[0][0]    \n",
      "__________________________________________________________________________________________________\n",
      "activation_791 (Activation)     (None, 6, 6, 192)    0           batch_normalization_791[0][0]    \n",
      "__________________________________________________________________________________________________\n",
      "activation_792 (Activation)     (None, 6, 6, 192)    0           batch_normalization_792[0][0]    \n",
      "__________________________________________________________________________________________________\n",
      "mixed4 (Concatenate)            (None, 6, 6, 768)    0           activation_783[0][0]             \n",
      "                                                                 activation_786[0][0]             \n",
      "                                                                 activation_791[0][0]             \n",
      "                                                                 activation_792[0][0]             \n",
      "__________________________________________________________________________________________________\n",
      "conv2d_797 (Conv2D)             (None, 6, 6, 160)    122880      mixed4[0][0]                     \n",
      "__________________________________________________________________________________________________\n",
      "batch_normalization_797 (BatchN (None, 6, 6, 160)    480         conv2d_797[0][0]                 \n",
      "__________________________________________________________________________________________________\n",
      "activation_797 (Activation)     (None, 6, 6, 160)    0           batch_normalization_797[0][0]    \n",
      "__________________________________________________________________________________________________\n",
      "conv2d_798 (Conv2D)             (None, 6, 6, 160)    179200      activation_797[0][0]             \n",
      "__________________________________________________________________________________________________\n",
      "batch_normalization_798 (BatchN (None, 6, 6, 160)    480         conv2d_798[0][0]                 \n",
      "__________________________________________________________________________________________________\n",
      "activation_798 (Activation)     (None, 6, 6, 160)    0           batch_normalization_798[0][0]    \n",
      "__________________________________________________________________________________________________\n",
      "conv2d_794 (Conv2D)             (None, 6, 6, 160)    122880      mixed4[0][0]                     \n",
      "__________________________________________________________________________________________________\n",
      "conv2d_799 (Conv2D)             (None, 6, 6, 160)    179200      activation_798[0][0]             \n",
      "__________________________________________________________________________________________________\n",
      "batch_normalization_794 (BatchN (None, 6, 6, 160)    480         conv2d_794[0][0]                 \n",
      "__________________________________________________________________________________________________\n",
      "batch_normalization_799 (BatchN (None, 6, 6, 160)    480         conv2d_799[0][0]                 \n",
      "__________________________________________________________________________________________________\n",
      "activation_794 (Activation)     (None, 6, 6, 160)    0           batch_normalization_794[0][0]    \n",
      "__________________________________________________________________________________________________\n",
      "activation_799 (Activation)     (None, 6, 6, 160)    0           batch_normalization_799[0][0]    \n",
      "__________________________________________________________________________________________________\n",
      "conv2d_795 (Conv2D)             (None, 6, 6, 160)    179200      activation_794[0][0]             \n",
      "__________________________________________________________________________________________________\n",
      "conv2d_800 (Conv2D)             (None, 6, 6, 160)    179200      activation_799[0][0]             \n",
      "__________________________________________________________________________________________________\n",
      "batch_normalization_795 (BatchN (None, 6, 6, 160)    480         conv2d_795[0][0]                 \n",
      "__________________________________________________________________________________________________\n",
      "batch_normalization_800 (BatchN (None, 6, 6, 160)    480         conv2d_800[0][0]                 \n",
      "__________________________________________________________________________________________________\n",
      "activation_795 (Activation)     (None, 6, 6, 160)    0           batch_normalization_795[0][0]    \n",
      "__________________________________________________________________________________________________\n",
      "activation_800 (Activation)     (None, 6, 6, 160)    0           batch_normalization_800[0][0]    \n",
      "__________________________________________________________________________________________________\n",
      "average_pooling2d_77 (AveragePo (None, 6, 6, 768)    0           mixed4[0][0]                     \n",
      "__________________________________________________________________________________________________\n",
      "conv2d_793 (Conv2D)             (None, 6, 6, 192)    147456      mixed4[0][0]                     \n",
      "__________________________________________________________________________________________________\n",
      "conv2d_796 (Conv2D)             (None, 6, 6, 192)    215040      activation_795[0][0]             \n",
      "__________________________________________________________________________________________________\n",
      "conv2d_801 (Conv2D)             (None, 6, 6, 192)    215040      activation_800[0][0]             \n",
      "__________________________________________________________________________________________________\n",
      "conv2d_802 (Conv2D)             (None, 6, 6, 192)    147456      average_pooling2d_77[0][0]       \n",
      "__________________________________________________________________________________________________\n",
      "batch_normalization_793 (BatchN (None, 6, 6, 192)    576         conv2d_793[0][0]                 \n",
      "__________________________________________________________________________________________________\n",
      "batch_normalization_796 (BatchN (None, 6, 6, 192)    576         conv2d_796[0][0]                 \n",
      "__________________________________________________________________________________________________\n",
      "batch_normalization_801 (BatchN (None, 6, 6, 192)    576         conv2d_801[0][0]                 \n",
      "__________________________________________________________________________________________________\n",
      "batch_normalization_802 (BatchN (None, 6, 6, 192)    576         conv2d_802[0][0]                 \n",
      "__________________________________________________________________________________________________\n",
      "activation_793 (Activation)     (None, 6, 6, 192)    0           batch_normalization_793[0][0]    \n",
      "__________________________________________________________________________________________________\n",
      "activation_796 (Activation)     (None, 6, 6, 192)    0           batch_normalization_796[0][0]    \n",
      "__________________________________________________________________________________________________\n",
      "activation_801 (Activation)     (None, 6, 6, 192)    0           batch_normalization_801[0][0]    \n",
      "__________________________________________________________________________________________________\n",
      "activation_802 (Activation)     (None, 6, 6, 192)    0           batch_normalization_802[0][0]    \n",
      "__________________________________________________________________________________________________\n",
      "mixed5 (Concatenate)            (None, 6, 6, 768)    0           activation_793[0][0]             \n",
      "                                                                 activation_796[0][0]             \n",
      "                                                                 activation_801[0][0]             \n",
      "                                                                 activation_802[0][0]             \n",
      "__________________________________________________________________________________________________\n",
      "conv2d_807 (Conv2D)             (None, 6, 6, 160)    122880      mixed5[0][0]                     \n",
      "__________________________________________________________________________________________________\n",
      "batch_normalization_807 (BatchN (None, 6, 6, 160)    480         conv2d_807[0][0]                 \n",
      "__________________________________________________________________________________________________\n",
      "activation_807 (Activation)     (None, 6, 6, 160)    0           batch_normalization_807[0][0]    \n",
      "__________________________________________________________________________________________________\n",
      "conv2d_808 (Conv2D)             (None, 6, 6, 160)    179200      activation_807[0][0]             \n",
      "__________________________________________________________________________________________________\n",
      "batch_normalization_808 (BatchN (None, 6, 6, 160)    480         conv2d_808[0][0]                 \n",
      "__________________________________________________________________________________________________\n",
      "activation_808 (Activation)     (None, 6, 6, 160)    0           batch_normalization_808[0][0]    \n",
      "__________________________________________________________________________________________________\n",
      "conv2d_804 (Conv2D)             (None, 6, 6, 160)    122880      mixed5[0][0]                     \n",
      "__________________________________________________________________________________________________\n",
      "conv2d_809 (Conv2D)             (None, 6, 6, 160)    179200      activation_808[0][0]             \n",
      "__________________________________________________________________________________________________\n",
      "batch_normalization_804 (BatchN (None, 6, 6, 160)    480         conv2d_804[0][0]                 \n",
      "__________________________________________________________________________________________________\n",
      "batch_normalization_809 (BatchN (None, 6, 6, 160)    480         conv2d_809[0][0]                 \n",
      "__________________________________________________________________________________________________\n",
      "activation_804 (Activation)     (None, 6, 6, 160)    0           batch_normalization_804[0][0]    \n",
      "__________________________________________________________________________________________________\n",
      "activation_809 (Activation)     (None, 6, 6, 160)    0           batch_normalization_809[0][0]    \n",
      "__________________________________________________________________________________________________\n",
      "conv2d_805 (Conv2D)             (None, 6, 6, 160)    179200      activation_804[0][0]             \n",
      "__________________________________________________________________________________________________\n",
      "conv2d_810 (Conv2D)             (None, 6, 6, 160)    179200      activation_809[0][0]             \n",
      "__________________________________________________________________________________________________\n",
      "batch_normalization_805 (BatchN (None, 6, 6, 160)    480         conv2d_805[0][0]                 \n",
      "__________________________________________________________________________________________________\n",
      "batch_normalization_810 (BatchN (None, 6, 6, 160)    480         conv2d_810[0][0]                 \n",
      "__________________________________________________________________________________________________\n",
      "activation_805 (Activation)     (None, 6, 6, 160)    0           batch_normalization_805[0][0]    \n",
      "__________________________________________________________________________________________________\n",
      "activation_810 (Activation)     (None, 6, 6, 160)    0           batch_normalization_810[0][0]    \n",
      "__________________________________________________________________________________________________\n",
      "average_pooling2d_78 (AveragePo (None, 6, 6, 768)    0           mixed5[0][0]                     \n",
      "__________________________________________________________________________________________________\n",
      "conv2d_803 (Conv2D)             (None, 6, 6, 192)    147456      mixed5[0][0]                     \n",
      "__________________________________________________________________________________________________\n",
      "conv2d_806 (Conv2D)             (None, 6, 6, 192)    215040      activation_805[0][0]             \n",
      "__________________________________________________________________________________________________\n",
      "conv2d_811 (Conv2D)             (None, 6, 6, 192)    215040      activation_810[0][0]             \n",
      "__________________________________________________________________________________________________\n",
      "conv2d_812 (Conv2D)             (None, 6, 6, 192)    147456      average_pooling2d_78[0][0]       \n",
      "__________________________________________________________________________________________________\n",
      "batch_normalization_803 (BatchN (None, 6, 6, 192)    576         conv2d_803[0][0]                 \n",
      "__________________________________________________________________________________________________\n",
      "batch_normalization_806 (BatchN (None, 6, 6, 192)    576         conv2d_806[0][0]                 \n",
      "__________________________________________________________________________________________________\n",
      "batch_normalization_811 (BatchN (None, 6, 6, 192)    576         conv2d_811[0][0]                 \n",
      "__________________________________________________________________________________________________\n",
      "batch_normalization_812 (BatchN (None, 6, 6, 192)    576         conv2d_812[0][0]                 \n",
      "__________________________________________________________________________________________________\n",
      "activation_803 (Activation)     (None, 6, 6, 192)    0           batch_normalization_803[0][0]    \n",
      "__________________________________________________________________________________________________\n",
      "activation_806 (Activation)     (None, 6, 6, 192)    0           batch_normalization_806[0][0]    \n",
      "__________________________________________________________________________________________________\n",
      "activation_811 (Activation)     (None, 6, 6, 192)    0           batch_normalization_811[0][0]    \n",
      "__________________________________________________________________________________________________\n",
      "activation_812 (Activation)     (None, 6, 6, 192)    0           batch_normalization_812[0][0]    \n",
      "__________________________________________________________________________________________________\n",
      "mixed6 (Concatenate)            (None, 6, 6, 768)    0           activation_803[0][0]             \n",
      "                                                                 activation_806[0][0]             \n",
      "                                                                 activation_811[0][0]             \n",
      "                                                                 activation_812[0][0]             \n",
      "__________________________________________________________________________________________________\n",
      "conv2d_817 (Conv2D)             (None, 6, 6, 192)    147456      mixed6[0][0]                     \n",
      "__________________________________________________________________________________________________\n",
      "batch_normalization_817 (BatchN (None, 6, 6, 192)    576         conv2d_817[0][0]                 \n",
      "__________________________________________________________________________________________________\n",
      "activation_817 (Activation)     (None, 6, 6, 192)    0           batch_normalization_817[0][0]    \n",
      "__________________________________________________________________________________________________\n",
      "conv2d_818 (Conv2D)             (None, 6, 6, 192)    258048      activation_817[0][0]             \n",
      "__________________________________________________________________________________________________\n",
      "batch_normalization_818 (BatchN (None, 6, 6, 192)    576         conv2d_818[0][0]                 \n",
      "__________________________________________________________________________________________________\n",
      "activation_818 (Activation)     (None, 6, 6, 192)    0           batch_normalization_818[0][0]    \n",
      "__________________________________________________________________________________________________\n",
      "conv2d_814 (Conv2D)             (None, 6, 6, 192)    147456      mixed6[0][0]                     \n",
      "__________________________________________________________________________________________________\n",
      "conv2d_819 (Conv2D)             (None, 6, 6, 192)    258048      activation_818[0][0]             \n",
      "__________________________________________________________________________________________________\n",
      "batch_normalization_814 (BatchN (None, 6, 6, 192)    576         conv2d_814[0][0]                 \n",
      "__________________________________________________________________________________________________\n",
      "batch_normalization_819 (BatchN (None, 6, 6, 192)    576         conv2d_819[0][0]                 \n",
      "__________________________________________________________________________________________________\n",
      "activation_814 (Activation)     (None, 6, 6, 192)    0           batch_normalization_814[0][0]    \n",
      "__________________________________________________________________________________________________\n",
      "activation_819 (Activation)     (None, 6, 6, 192)    0           batch_normalization_819[0][0]    \n",
      "__________________________________________________________________________________________________\n",
      "conv2d_815 (Conv2D)             (None, 6, 6, 192)    258048      activation_814[0][0]             \n",
      "__________________________________________________________________________________________________\n",
      "conv2d_820 (Conv2D)             (None, 6, 6, 192)    258048      activation_819[0][0]             \n",
      "__________________________________________________________________________________________________\n",
      "batch_normalization_815 (BatchN (None, 6, 6, 192)    576         conv2d_815[0][0]                 \n",
      "__________________________________________________________________________________________________\n",
      "batch_normalization_820 (BatchN (None, 6, 6, 192)    576         conv2d_820[0][0]                 \n",
      "__________________________________________________________________________________________________\n",
      "activation_815 (Activation)     (None, 6, 6, 192)    0           batch_normalization_815[0][0]    \n",
      "__________________________________________________________________________________________________\n",
      "activation_820 (Activation)     (None, 6, 6, 192)    0           batch_normalization_820[0][0]    \n",
      "__________________________________________________________________________________________________\n",
      "average_pooling2d_79 (AveragePo (None, 6, 6, 768)    0           mixed6[0][0]                     \n",
      "__________________________________________________________________________________________________\n",
      "conv2d_813 (Conv2D)             (None, 6, 6, 192)    147456      mixed6[0][0]                     \n",
      "__________________________________________________________________________________________________\n",
      "conv2d_816 (Conv2D)             (None, 6, 6, 192)    258048      activation_815[0][0]             \n",
      "__________________________________________________________________________________________________\n",
      "conv2d_821 (Conv2D)             (None, 6, 6, 192)    258048      activation_820[0][0]             \n",
      "__________________________________________________________________________________________________\n",
      "conv2d_822 (Conv2D)             (None, 6, 6, 192)    147456      average_pooling2d_79[0][0]       \n",
      "__________________________________________________________________________________________________\n",
      "batch_normalization_813 (BatchN (None, 6, 6, 192)    576         conv2d_813[0][0]                 \n",
      "__________________________________________________________________________________________________\n",
      "batch_normalization_816 (BatchN (None, 6, 6, 192)    576         conv2d_816[0][0]                 \n",
      "__________________________________________________________________________________________________\n",
      "batch_normalization_821 (BatchN (None, 6, 6, 192)    576         conv2d_821[0][0]                 \n",
      "__________________________________________________________________________________________________\n",
      "batch_normalization_822 (BatchN (None, 6, 6, 192)    576         conv2d_822[0][0]                 \n",
      "__________________________________________________________________________________________________\n",
      "activation_813 (Activation)     (None, 6, 6, 192)    0           batch_normalization_813[0][0]    \n",
      "__________________________________________________________________________________________________\n",
      "activation_816 (Activation)     (None, 6, 6, 192)    0           batch_normalization_816[0][0]    \n",
      "__________________________________________________________________________________________________\n",
      "activation_821 (Activation)     (None, 6, 6, 192)    0           batch_normalization_821[0][0]    \n",
      "__________________________________________________________________________________________________\n",
      "activation_822 (Activation)     (None, 6, 6, 192)    0           batch_normalization_822[0][0]    \n",
      "__________________________________________________________________________________________________\n",
      "mixed7 (Concatenate)            (None, 6, 6, 768)    0           activation_813[0][0]             \n",
      "                                                                 activation_816[0][0]             \n",
      "                                                                 activation_821[0][0]             \n",
      "                                                                 activation_822[0][0]             \n",
      "__________________________________________________________________________________________________\n",
      "conv2d_825 (Conv2D)             (None, 6, 6, 192)    147456      mixed7[0][0]                     \n",
      "__________________________________________________________________________________________________\n",
      "batch_normalization_825 (BatchN (None, 6, 6, 192)    576         conv2d_825[0][0]                 \n",
      "__________________________________________________________________________________________________\n",
      "activation_825 (Activation)     (None, 6, 6, 192)    0           batch_normalization_825[0][0]    \n",
      "__________________________________________________________________________________________________\n",
      "conv2d_826 (Conv2D)             (None, 6, 6, 192)    258048      activation_825[0][0]             \n",
      "__________________________________________________________________________________________________\n",
      "batch_normalization_826 (BatchN (None, 6, 6, 192)    576         conv2d_826[0][0]                 \n",
      "__________________________________________________________________________________________________\n",
      "activation_826 (Activation)     (None, 6, 6, 192)    0           batch_normalization_826[0][0]    \n",
      "__________________________________________________________________________________________________\n",
      "conv2d_823 (Conv2D)             (None, 6, 6, 192)    147456      mixed7[0][0]                     \n",
      "__________________________________________________________________________________________________\n",
      "conv2d_827 (Conv2D)             (None, 6, 6, 192)    258048      activation_826[0][0]             \n",
      "__________________________________________________________________________________________________\n",
      "batch_normalization_823 (BatchN (None, 6, 6, 192)    576         conv2d_823[0][0]                 \n",
      "__________________________________________________________________________________________________\n",
      "batch_normalization_827 (BatchN (None, 6, 6, 192)    576         conv2d_827[0][0]                 \n",
      "__________________________________________________________________________________________________\n",
      "activation_823 (Activation)     (None, 6, 6, 192)    0           batch_normalization_823[0][0]    \n",
      "__________________________________________________________________________________________________\n",
      "activation_827 (Activation)     (None, 6, 6, 192)    0           batch_normalization_827[0][0]    \n",
      "__________________________________________________________________________________________________\n",
      "conv2d_824 (Conv2D)             (None, 2, 2, 320)    552960      activation_823[0][0]             \n",
      "__________________________________________________________________________________________________\n",
      "conv2d_828 (Conv2D)             (None, 2, 2, 192)    331776      activation_827[0][0]             \n",
      "__________________________________________________________________________________________________\n",
      "batch_normalization_824 (BatchN (None, 2, 2, 320)    960         conv2d_824[0][0]                 \n",
      "__________________________________________________________________________________________________\n",
      "batch_normalization_828 (BatchN (None, 2, 2, 192)    576         conv2d_828[0][0]                 \n",
      "__________________________________________________________________________________________________\n",
      "activation_824 (Activation)     (None, 2, 2, 320)    0           batch_normalization_824[0][0]    \n",
      "__________________________________________________________________________________________________\n",
      "activation_828 (Activation)     (None, 2, 2, 192)    0           batch_normalization_828[0][0]    \n",
      "__________________________________________________________________________________________________\n",
      "max_pooling2d_36 (MaxPooling2D) (None, 2, 2, 768)    0           mixed7[0][0]                     \n",
      "__________________________________________________________________________________________________\n",
      "mixed8 (Concatenate)            (None, 2, 2, 1280)   0           activation_824[0][0]             \n",
      "                                                                 activation_828[0][0]             \n",
      "                                                                 max_pooling2d_36[0][0]           \n",
      "__________________________________________________________________________________________________\n",
      "conv2d_833 (Conv2D)             (None, 2, 2, 448)    573440      mixed8[0][0]                     \n",
      "__________________________________________________________________________________________________\n",
      "batch_normalization_833 (BatchN (None, 2, 2, 448)    1344        conv2d_833[0][0]                 \n",
      "__________________________________________________________________________________________________\n",
      "activation_833 (Activation)     (None, 2, 2, 448)    0           batch_normalization_833[0][0]    \n",
      "__________________________________________________________________________________________________\n",
      "conv2d_830 (Conv2D)             (None, 2, 2, 384)    491520      mixed8[0][0]                     \n",
      "__________________________________________________________________________________________________\n",
      "conv2d_834 (Conv2D)             (None, 2, 2, 384)    1548288     activation_833[0][0]             \n",
      "__________________________________________________________________________________________________\n",
      "batch_normalization_830 (BatchN (None, 2, 2, 384)    1152        conv2d_830[0][0]                 \n",
      "__________________________________________________________________________________________________\n",
      "batch_normalization_834 (BatchN (None, 2, 2, 384)    1152        conv2d_834[0][0]                 \n",
      "__________________________________________________________________________________________________\n",
      "activation_830 (Activation)     (None, 2, 2, 384)    0           batch_normalization_830[0][0]    \n",
      "__________________________________________________________________________________________________\n",
      "activation_834 (Activation)     (None, 2, 2, 384)    0           batch_normalization_834[0][0]    \n",
      "__________________________________________________________________________________________________\n",
      "conv2d_831 (Conv2D)             (None, 2, 2, 384)    442368      activation_830[0][0]             \n",
      "__________________________________________________________________________________________________\n",
      "conv2d_832 (Conv2D)             (None, 2, 2, 384)    442368      activation_830[0][0]             \n",
      "__________________________________________________________________________________________________\n",
      "conv2d_835 (Conv2D)             (None, 2, 2, 384)    442368      activation_834[0][0]             \n",
      "__________________________________________________________________________________________________\n",
      "conv2d_836 (Conv2D)             (None, 2, 2, 384)    442368      activation_834[0][0]             \n",
      "__________________________________________________________________________________________________\n",
      "average_pooling2d_80 (AveragePo (None, 2, 2, 1280)   0           mixed8[0][0]                     \n",
      "__________________________________________________________________________________________________\n",
      "conv2d_829 (Conv2D)             (None, 2, 2, 320)    409600      mixed8[0][0]                     \n",
      "__________________________________________________________________________________________________\n",
      "batch_normalization_831 (BatchN (None, 2, 2, 384)    1152        conv2d_831[0][0]                 \n",
      "__________________________________________________________________________________________________\n",
      "batch_normalization_832 (BatchN (None, 2, 2, 384)    1152        conv2d_832[0][0]                 \n",
      "__________________________________________________________________________________________________\n",
      "batch_normalization_835 (BatchN (None, 2, 2, 384)    1152        conv2d_835[0][0]                 \n",
      "__________________________________________________________________________________________________\n",
      "batch_normalization_836 (BatchN (None, 2, 2, 384)    1152        conv2d_836[0][0]                 \n",
      "__________________________________________________________________________________________________\n",
      "conv2d_837 (Conv2D)             (None, 2, 2, 192)    245760      average_pooling2d_80[0][0]       \n",
      "__________________________________________________________________________________________________\n",
      "batch_normalization_829 (BatchN (None, 2, 2, 320)    960         conv2d_829[0][0]                 \n",
      "__________________________________________________________________________________________________\n",
      "activation_831 (Activation)     (None, 2, 2, 384)    0           batch_normalization_831[0][0]    \n",
      "__________________________________________________________________________________________________\n",
      "activation_832 (Activation)     (None, 2, 2, 384)    0           batch_normalization_832[0][0]    \n",
      "__________________________________________________________________________________________________\n",
      "activation_835 (Activation)     (None, 2, 2, 384)    0           batch_normalization_835[0][0]    \n",
      "__________________________________________________________________________________________________\n",
      "activation_836 (Activation)     (None, 2, 2, 384)    0           batch_normalization_836[0][0]    \n",
      "__________________________________________________________________________________________________\n",
      "batch_normalization_837 (BatchN (None, 2, 2, 192)    576         conv2d_837[0][0]                 \n",
      "__________________________________________________________________________________________________\n",
      "activation_829 (Activation)     (None, 2, 2, 320)    0           batch_normalization_829[0][0]    \n",
      "__________________________________________________________________________________________________\n",
      "mixed9_0 (Concatenate)          (None, 2, 2, 768)    0           activation_831[0][0]             \n",
      "                                                                 activation_832[0][0]             \n",
      "__________________________________________________________________________________________________\n",
      "concatenate_17 (Concatenate)    (None, 2, 2, 768)    0           activation_835[0][0]             \n",
      "                                                                 activation_836[0][0]             \n",
      "__________________________________________________________________________________________________\n",
      "activation_837 (Activation)     (None, 2, 2, 192)    0           batch_normalization_837[0][0]    \n",
      "__________________________________________________________________________________________________\n",
      "mixed9 (Concatenate)            (None, 2, 2, 2048)   0           activation_829[0][0]             \n",
      "                                                                 mixed9_0[0][0]                   \n",
      "                                                                 concatenate_17[0][0]             \n",
      "                                                                 activation_837[0][0]             \n",
      "__________________________________________________________________________________________________\n",
      "conv2d_842 (Conv2D)             (None, 2, 2, 448)    917504      mixed9[0][0]                     \n",
      "__________________________________________________________________________________________________\n",
      "batch_normalization_842 (BatchN (None, 2, 2, 448)    1344        conv2d_842[0][0]                 \n",
      "__________________________________________________________________________________________________\n",
      "activation_842 (Activation)     (None, 2, 2, 448)    0           batch_normalization_842[0][0]    \n",
      "__________________________________________________________________________________________________\n",
      "conv2d_839 (Conv2D)             (None, 2, 2, 384)    786432      mixed9[0][0]                     \n",
      "__________________________________________________________________________________________________\n",
      "conv2d_843 (Conv2D)             (None, 2, 2, 384)    1548288     activation_842[0][0]             \n",
      "__________________________________________________________________________________________________\n",
      "batch_normalization_839 (BatchN (None, 2, 2, 384)    1152        conv2d_839[0][0]                 \n",
      "__________________________________________________________________________________________________\n",
      "batch_normalization_843 (BatchN (None, 2, 2, 384)    1152        conv2d_843[0][0]                 \n",
      "__________________________________________________________________________________________________\n",
      "activation_839 (Activation)     (None, 2, 2, 384)    0           batch_normalization_839[0][0]    \n",
      "__________________________________________________________________________________________________\n",
      "activation_843 (Activation)     (None, 2, 2, 384)    0           batch_normalization_843[0][0]    \n",
      "__________________________________________________________________________________________________\n",
      "conv2d_840 (Conv2D)             (None, 2, 2, 384)    442368      activation_839[0][0]             \n",
      "__________________________________________________________________________________________________\n",
      "conv2d_841 (Conv2D)             (None, 2, 2, 384)    442368      activation_839[0][0]             \n",
      "__________________________________________________________________________________________________\n",
      "conv2d_844 (Conv2D)             (None, 2, 2, 384)    442368      activation_843[0][0]             \n",
      "__________________________________________________________________________________________________\n",
      "conv2d_845 (Conv2D)             (None, 2, 2, 384)    442368      activation_843[0][0]             \n",
      "__________________________________________________________________________________________________\n",
      "average_pooling2d_81 (AveragePo (None, 2, 2, 2048)   0           mixed9[0][0]                     \n",
      "__________________________________________________________________________________________________\n",
      "conv2d_838 (Conv2D)             (None, 2, 2, 320)    655360      mixed9[0][0]                     \n",
      "__________________________________________________________________________________________________\n",
      "batch_normalization_840 (BatchN (None, 2, 2, 384)    1152        conv2d_840[0][0]                 \n",
      "__________________________________________________________________________________________________\n",
      "batch_normalization_841 (BatchN (None, 2, 2, 384)    1152        conv2d_841[0][0]                 \n",
      "__________________________________________________________________________________________________\n",
      "batch_normalization_844 (BatchN (None, 2, 2, 384)    1152        conv2d_844[0][0]                 \n",
      "__________________________________________________________________________________________________\n",
      "batch_normalization_845 (BatchN (None, 2, 2, 384)    1152        conv2d_845[0][0]                 \n",
      "__________________________________________________________________________________________________\n",
      "conv2d_846 (Conv2D)             (None, 2, 2, 192)    393216      average_pooling2d_81[0][0]       \n",
      "__________________________________________________________________________________________________\n",
      "batch_normalization_838 (BatchN (None, 2, 2, 320)    960         conv2d_838[0][0]                 \n",
      "__________________________________________________________________________________________________\n",
      "activation_840 (Activation)     (None, 2, 2, 384)    0           batch_normalization_840[0][0]    \n",
      "__________________________________________________________________________________________________\n",
      "activation_841 (Activation)     (None, 2, 2, 384)    0           batch_normalization_841[0][0]    \n",
      "__________________________________________________________________________________________________\n",
      "activation_844 (Activation)     (None, 2, 2, 384)    0           batch_normalization_844[0][0]    \n",
      "__________________________________________________________________________________________________\n",
      "activation_845 (Activation)     (None, 2, 2, 384)    0           batch_normalization_845[0][0]    \n",
      "__________________________________________________________________________________________________\n",
      "batch_normalization_846 (BatchN (None, 2, 2, 192)    576         conv2d_846[0][0]                 \n",
      "__________________________________________________________________________________________________\n",
      "activation_838 (Activation)     (None, 2, 2, 320)    0           batch_normalization_838[0][0]    \n",
      "__________________________________________________________________________________________________\n",
      "mixed9_1 (Concatenate)          (None, 2, 2, 768)    0           activation_840[0][0]             \n",
      "                                                                 activation_841[0][0]             \n",
      "__________________________________________________________________________________________________\n",
      "concatenate_18 (Concatenate)    (None, 2, 2, 768)    0           activation_844[0][0]             \n",
      "                                                                 activation_845[0][0]             \n",
      "__________________________________________________________________________________________________\n",
      "activation_846 (Activation)     (None, 2, 2, 192)    0           batch_normalization_846[0][0]    \n",
      "__________________________________________________________________________________________________\n",
      "mixed10 (Concatenate)           (None, 2, 2, 2048)   0           activation_838[0][0]             \n",
      "                                                                 mixed9_1[0][0]                   \n",
      "                                                                 concatenate_18[0][0]             \n",
      "                                                                 activation_846[0][0]             \n",
      "==================================================================================================\n",
      "Total params: 21,802,784\n",
      "Trainable params: 21,768,352\n",
      "Non-trainable params: 34,432\n",
      "__________________________________________________________________________________________________\n"
     ]
    }
   ],
   "source": [
    "inception_model.summary()"
   ]
  },
  {
   "cell_type": "code",
   "execution_count": 212,
   "metadata": {},
   "outputs": [],
   "source": [
    "model = Sequential()\n",
    "model.add(inception_model)\n",
    "\n",
    "model.add(Flatten())\n",
    "model.add(Dense(128, activation='relu'))\n",
    "model.add(Dense(classes, activation='softmax'))"
   ]
  },
  {
   "cell_type": "code",
   "execution_count": 213,
   "metadata": {},
   "outputs": [],
   "source": [
    "batch_size = 10\n",
    "epochs = 100"
   ]
  },
  {
   "cell_type": "code",
   "execution_count": 214,
   "metadata": {},
   "outputs": [
    {
     "name": "stdout",
     "output_type": "stream",
     "text": [
      "_________________________________________________________________\n",
      "Layer (type)                 Output Shape              Param #   \n",
      "=================================================================\n",
      "inception_v3 (Model)         (None, 2, 2, 2048)        21802784  \n",
      "_________________________________________________________________\n",
      "flatten_13 (Flatten)         (None, 8192)              0         \n",
      "_________________________________________________________________\n",
      "dense_25 (Dense)             (None, 128)               1048704   \n",
      "_________________________________________________________________\n",
      "dense_26 (Dense)             (None, 6)                 774       \n",
      "=================================================================\n",
      "Total params: 22,852,262\n",
      "Trainable params: 22,817,830\n",
      "Non-trainable params: 34,432\n",
      "_________________________________________________________________\n"
     ]
    }
   ],
   "source": [
    "model.summary()"
   ]
  },
  {
   "cell_type": "code",
   "execution_count": 215,
   "metadata": {},
   "outputs": [
    {
     "name": "stdout",
     "output_type": "stream",
     "text": [
      "Number of Trainable Weights Before Freezing The Convolution Base 192\n",
      "Number of Trainable Weights After Freezing The Convolution Base 4\n"
     ]
    }
   ],
   "source": [
    "print(\"Number of Trainable Weights Before Freezing The Convolution Base\", len(model.trainable_weights))\n",
    "inception_model.trainable=False\n",
    "print(\"Number of Trainable Weights After Freezing The Convolution Base\", len(model.trainable_weights))"
   ]
  },
  {
   "cell_type": "code",
   "execution_count": 216,
   "metadata": {},
   "outputs": [],
   "source": [
    "sgd = SGD(lr=0.001, decay=1e-6, momentum=0.9, nesterov=True)\n",
    "model.compile(optimizer=optimizers.RMSprop(lr=2e-5), loss='categorical_hinge', metrics=['accuracy'])\n",
    "#model.compile(optimizer=sgd , loss='categorical_crossentropy', metrics=['accuracy'])"
   ]
  },
  {
   "cell_type": "code",
   "execution_count": 217,
   "metadata": {},
   "outputs": [
    {
     "data": {
      "image/png": "[encoded data removed]",
      "text/plain": [
       "<Figure size 864x576 with 2 Axes>"
      ]
     },
     "metadata": {
      "needs_background": "light"
     },
     "output_type": "display_data"
    },
    {
     "name": "stdout",
     "output_type": "stream",
     "text": [
      "categorical_hinge (cost function):\n",
      "training   (min:    0.596, max:    0.934, cur:    0.608)\n",
      "validation (min:    0.566, max:    0.831, cur:    0.581)\n",
      "\n",
      "Accuracy:\n",
      "training   (min:    0.514, max:    0.704, cur:    0.695)\n",
      "validation (min:    0.560, max:    0.711, cur:    0.702)\n"
     ]
    }
   ],
   "source": [
    "history = model.fit(image_pixel_data_train, \n",
    "                     image_label_data_train, \n",
    "                     batch_size=batch_size,\n",
    "                     epochs=epochs, verbose=1, \n",
    "                     validation_data=(image_pixel_data_test, image_label_data_test),\n",
    "                     callbacks=[plot_losses])"
   ]
  },
  {
   "cell_type": "code",
   "execution_count": 218,
   "metadata": {},
   "outputs": [
    {
     "name": "stdout",
     "output_type": "stream",
     "text": [
      "1764/1764 [==============================] - 3s 2ms/step\n",
      "\n",
      "acc: 70.24%\n"
     ]
    }
   ],
   "source": [
    "scores = model.evaluate(image_pixel_data_test, image_label_data_test)\n",
    "print(\"\\n%s: %.2f%%\" % (model.metrics_names[1], scores[1]*100)) "
   ]
  },
  {
   "cell_type": "code",
   "execution_count": 219,
   "metadata": {},
   "outputs": [],
   "source": [
    "def text_to_num(labe):\n",
    "    arr=[]\n",
    "    for i in range(len(labe)):\n",
    "        if(labe[i]=='damaged_infrastructure'):\n",
    "            arr.append(0)\n",
    "        elif(labe[i]=='damaged_nature'):\n",
    "            arr.append(1)\n",
    "        elif(labe[i]=='fires'):\n",
    "            arr.append(2)\n",
    "        elif(labe[i]=='flood'):\n",
    "            arr.append(3)\n",
    "        elif(labe[i]=='human_damage'):\n",
    "            arr.append(4)\n",
    "        elif(labe[i]=='non_damage'):\n",
    "            arr.append(5)\n",
    "        else:\n",
    "            arr.append(100)\n",
    "    return arr"
   ]
  },
  {
   "cell_type": "code",
   "execution_count": 220,
   "metadata": {},
   "outputs": [
    {
     "name": "stdout",
     "output_type": "stream",
     "text": [
      "0.7023809523809523\n",
      "[[285   4   3  27   3 103]\n",
      " [ 73  13   6  27   1  35]\n",
      " [  7   1  72   3   0  22]\n",
      " [ 19   2   1  61   0  32]\n",
      " [  6   0   0   6  17  43]\n",
      " [ 71   2  12  16   0 791]]\n",
      "              precision    recall  f1-score   support\n",
      "\n",
      "           0       0.62      0.67      0.64       425\n",
      "           1       0.59      0.08      0.15       155\n",
      "           2       0.77      0.69      0.72       105\n",
      "           3       0.44      0.53      0.48       115\n",
      "           4       0.81      0.24      0.37        72\n",
      "           5       0.77      0.89      0.82       892\n",
      "\n",
      "   micro avg       0.70      0.70      0.70      1764\n",
      "   macro avg       0.67      0.52      0.53      1764\n",
      "weighted avg       0.70      0.70      0.67      1764\n",
      "\n"
     ]
    }
   ],
   "source": [
    "predictions=model.predict_classes(image_pixel_data_test)\n",
    "test_labels=enc.inverse_transform(image_label_data_test)\n",
    "test_labels=text_to_num(test_labels)\n",
    "print(accuracy_score(test_labels, predictions))\n",
    "print(confusion_matrix(test_labels, predictions))\n",
    "print(classification_report(test_labels, predictions))"
   ]
  }
 ],
 "metadata": {
  "kernelspec": {
   "display_name": "Python 3",
   "language": "python",
   "name": "python3"
  },
  "language_info": {
   "codemirror_mode": {
    "name": "ipython",
    "version": 3
   },
   "file_extension": ".py",
   "mimetype": "text/x-python",
   "name": "python",
   "nbconvert_exporter": "python",
   "pygments_lexer": "ipython3",
   "version": "3.5.5"
  }
 },
 "nbformat": 4,
 "nbformat_minor": 2
}
